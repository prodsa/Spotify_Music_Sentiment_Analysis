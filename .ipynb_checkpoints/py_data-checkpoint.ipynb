{
 "cells": [
  {
   "cell_type": "code",
   "execution_count": 1,
   "metadata": {},
   "outputs": [],
   "source": [
    "#importing spotipy & pandas packages\n",
    "\n",
    "import spotipy\n",
    "import pandas as pd"
   ]
  },
  {
   "cell_type": "code",
   "execution_count": 2,
   "metadata": {},
   "outputs": [],
   "source": [
    "#for setting up authorization for credentials\n",
    "\n",
    "from spotipy.oauth2 import SpotifyClientCredentials\n",
    "\n",
    "#defining access tokens \n",
    "\n",
    "cid = \"ca67fb2b379a4d0f9d0950c9aa493fa8\"\n",
    "secret = \"cbcab603f42d43f3b577c48945e44be0\"\n",
    "\n",
    "client_credentials_manager = SpotifyClientCredentials(client_id=cid, client_secret=secret)\n",
    "sp = spotipy.Spotify(client_credentials_manager=client_credentials_manager)"
   ]
  },
  {
   "cell_type": "markdown",
   "metadata": {},
   "source": [
    "Get the Track ID Data"
   ]
  },
  {
   "cell_type": "code",
   "execution_count": 3,
   "metadata": {},
   "outputs": [
    {
     "name": "stdout",
     "output_type": "stream",
     "text": [
      "Ran code in: 150.93998618054403 seconds\n"
     ]
    }
   ],
   "source": [
    "#timeit is imported to measure time taken to run the code \n",
    "import timeit\n",
    "start = timeit.default_timer()\n",
    "\n",
    "#create empty lists where the results are going to be stored\n",
    "artist_name = []\n",
    "track_name = []\n",
    "popularity = []\n",
    "track_id = []\n",
    "\n",
    "for i in range(0, 10000, 50):\n",
    "    track_results = sp.search(q='year:2018', type='track', limit=50, offset=i)\n",
    "    for i, t in enumerate(track_results['tracks']['items']):\n",
    "        artist_name.append(t['artists'][0]['name'])\n",
    "        track_name.append(t['name'])\n",
    "        track_id.append(t['id'])\n",
    "        popularity.append(t['popularity'])\n",
    "        \n",
    "stop = timeit.default_timer()\n",
    "print('Ran code in:',stop - start,'seconds')"
   ]
  },
  {
   "cell_type": "markdown",
   "metadata": {},
   "source": [
    "Track ID Data Preparation"
   ]
  },
  {
   "cell_type": "code",
   "execution_count": 5,
   "metadata": {},
   "outputs": [
    {
     "name": "stdout",
     "output_type": "stream",
     "text": [
      "number of songs in the track_id list: 10000\n"
     ]
    }
   ],
   "source": [
    "print('number of songs in the track_id list:', len(track_id))"
   ]
  },
  {
   "cell_type": "code",
   "execution_count": 7,
   "metadata": {},
   "outputs": [
    {
     "name": "stdout",
     "output_type": "stream",
     "text": [
      "(10000, 4)\n"
     ]
    }
   ],
   "source": [
    "#loading lists into pandas dataframe\n",
    "\n",
    "df_tracks = pd.DataFrame({'artist_name' : artist_name,\n",
    "                          'track_name' : track_name,\n",
    "                          'track_id' : track_id,\n",
    "                          'popularity' : popularity})\n",
    "\n",
    "#returns no. of rows, no. of columns\n",
    "print(df_tracks.shape)"
   ]
  },
  {
   "cell_type": "code",
   "execution_count": 8,
   "metadata": {},
   "outputs": [
    {
     "data": {
      "text/html": [
       "<div>\n",
       "<style scoped>\n",
       "    .dataframe tbody tr th:only-of-type {\n",
       "        vertical-align: middle;\n",
       "    }\n",
       "\n",
       "    .dataframe tbody tr th {\n",
       "        vertical-align: top;\n",
       "    }\n",
       "\n",
       "    .dataframe thead th {\n",
       "        text-align: right;\n",
       "    }\n",
       "</style>\n",
       "<table border=\"1\" class=\"dataframe\">\n",
       "  <thead>\n",
       "    <tr style=\"text-align: right;\">\n",
       "      <th></th>\n",
       "      <th>artist_name</th>\n",
       "      <th>popularity</th>\n",
       "      <th>track_id</th>\n",
       "      <th>track_name</th>\n",
       "    </tr>\n",
       "  </thead>\n",
       "  <tbody>\n",
       "    <tr>\n",
       "      <th>0</th>\n",
       "      <td>Travis Scott</td>\n",
       "      <td>97</td>\n",
       "      <td>2xLMifQCjDGFmkHkpNLD9h</td>\n",
       "      <td>SICKO MODE</td>\n",
       "    </tr>\n",
       "    <tr>\n",
       "      <th>1</th>\n",
       "      <td>Juice WRLD</td>\n",
       "      <td>96</td>\n",
       "      <td>0s3nnoMeVWz3989MkNQiRf</td>\n",
       "      <td>Lucid Dreams</td>\n",
       "    </tr>\n",
       "    <tr>\n",
       "      <th>2</th>\n",
       "      <td>Kodak Black</td>\n",
       "      <td>95</td>\n",
       "      <td>7l3E7lcozEodtVsSTCkcaA</td>\n",
       "      <td>ZEZE (feat. Travis Scott &amp; Offset)</td>\n",
       "    </tr>\n",
       "    <tr>\n",
       "      <th>3</th>\n",
       "      <td>Marshmello</td>\n",
       "      <td>99</td>\n",
       "      <td>2dpaYNEQHiRxtZbfNsse99</td>\n",
       "      <td>Happier</td>\n",
       "    </tr>\n",
       "    <tr>\n",
       "      <th>4</th>\n",
       "      <td>XXXTENTACION</td>\n",
       "      <td>95</td>\n",
       "      <td>3ee8Jmje8o58CHK66QrVC2</td>\n",
       "      <td>SAD!</td>\n",
       "    </tr>\n",
       "  </tbody>\n",
       "</table>\n",
       "</div>"
      ],
      "text/plain": [
       "    artist_name  popularity                track_id  \\\n",
       "0  Travis Scott          97  2xLMifQCjDGFmkHkpNLD9h   \n",
       "1    Juice WRLD          96  0s3nnoMeVWz3989MkNQiRf   \n",
       "2   Kodak Black          95  7l3E7lcozEodtVsSTCkcaA   \n",
       "3    Marshmello          99  2dpaYNEQHiRxtZbfNsse99   \n",
       "4  XXXTENTACION          95  3ee8Jmje8o58CHK66QrVC2   \n",
       "\n",
       "                           track_name  \n",
       "0                          SICKO MODE  \n",
       "1                        Lucid Dreams  \n",
       "2  ZEZE (feat. Travis Scott & Offset)  \n",
       "3                             Happier  \n",
       "4                                SAD!  "
      ]
     },
     "execution_count": 8,
     "metadata": {},
     "output_type": "execute_result"
    }
   ],
   "source": [
    "#prints the top 5 items in the list\n",
    "df_tracks.head()"
   ]
  },
  {
   "cell_type": "code",
   "execution_count": 9,
   "metadata": {},
   "outputs": [
    {
     "data": {
      "text/html": [
       "<div>\n",
       "<style scoped>\n",
       "    .dataframe tbody tr th:only-of-type {\n",
       "        vertical-align: middle;\n",
       "    }\n",
       "\n",
       "    .dataframe tbody tr th {\n",
       "        vertical-align: top;\n",
       "    }\n",
       "\n",
       "    .dataframe thead th {\n",
       "        text-align: right;\n",
       "    }\n",
       "</style>\n",
       "<table border=\"1\" class=\"dataframe\">\n",
       "  <thead>\n",
       "    <tr style=\"text-align: right;\">\n",
       "      <th></th>\n",
       "      <th>artist_name</th>\n",
       "      <th>popularity</th>\n",
       "      <th>track_id</th>\n",
       "      <th>track_name</th>\n",
       "    </tr>\n",
       "  </thead>\n",
       "  <tbody>\n",
       "    <tr>\n",
       "      <th>9995</th>\n",
       "      <td>Cody Jinks</td>\n",
       "      <td>47</td>\n",
       "      <td>0mAz3kasgCvDczNhddrFrj</td>\n",
       "      <td>Big Last Name</td>\n",
       "    </tr>\n",
       "    <tr>\n",
       "      <th>9996</th>\n",
       "      <td>MAGIC!</td>\n",
       "      <td>61</td>\n",
       "      <td>3aaYopQJJzCetKVXqNQ1zm</td>\n",
       "      <td>Expectations</td>\n",
       "    </tr>\n",
       "    <tr>\n",
       "      <th>9997</th>\n",
       "      <td>Sebastian Yatra</td>\n",
       "      <td>63</td>\n",
       "      <td>6NMRWLKSXABykkj58dVW9c</td>\n",
       "      <td>Sin Ti</td>\n",
       "    </tr>\n",
       "    <tr>\n",
       "      <th>9998</th>\n",
       "      <td>WHATUPRG</td>\n",
       "      <td>48</td>\n",
       "      <td>7sNDGrhYnBFMc6pK7krmyZ</td>\n",
       "      <td>Wesside</td>\n",
       "    </tr>\n",
       "    <tr>\n",
       "      <th>9999</th>\n",
       "      <td>Arizona Zervas</td>\n",
       "      <td>50</td>\n",
       "      <td>2W4smyeMF0Zhr2KZhAsl99</td>\n",
       "      <td>FML</td>\n",
       "    </tr>\n",
       "  </tbody>\n",
       "</table>\n",
       "</div>"
      ],
      "text/plain": [
       "          artist_name  popularity                track_id     track_name\n",
       "9995       Cody Jinks          47  0mAz3kasgCvDczNhddrFrj  Big Last Name\n",
       "9996           MAGIC!          61  3aaYopQJJzCetKVXqNQ1zm   Expectations\n",
       "9997  Sebastian Yatra          63  6NMRWLKSXABykkj58dVW9c         Sin Ti\n",
       "9998         WHATUPRG          48  7sNDGrhYnBFMc6pK7krmyZ        Wesside\n",
       "9999   Arizona Zervas          50  2W4smyeMF0Zhr2KZhAsl99            FML"
      ]
     },
     "execution_count": 9,
     "metadata": {},
     "output_type": "execute_result"
    }
   ],
   "source": [
    "#prints the bottom 5 items in the list\n",
    "df_tracks.tail()"
   ]
  },
  {
   "cell_type": "code",
   "execution_count": 10,
   "metadata": {},
   "outputs": [
    {
     "name": "stdout",
     "output_type": "stream",
     "text": [
      "<class 'pandas.core.frame.DataFrame'>\n",
      "RangeIndex: 10000 entries, 0 to 9999\n",
      "Data columns (total 4 columns):\n",
      "artist_name    10000 non-null object\n",
      "popularity     10000 non-null int64\n",
      "track_id       10000 non-null object\n",
      "track_name     10000 non-null object\n",
      "dtypes: int64(1), object(3)\n",
      "memory usage: 312.6+ KB\n"
     ]
    }
   ],
   "source": [
    "#prints the info of the items in the list\n",
    "df_tracks.info()"
   ]
  },
  {
   "cell_type": "code",
   "execution_count": 12,
   "metadata": {},
   "outputs": [
    {
     "data": {
      "text/plain": [
       "2213"
      ]
     },
     "execution_count": 12,
     "metadata": {},
     "output_type": "execute_result"
    }
   ],
   "source": [
    "# group the entries by artist_name and track_name and check for duplicates\n",
    "\n",
    "grouped = df_tracks.groupby(['artist_name','track_name'], as_index=True).size()\n",
    "grouped[grouped > 1].count()"
   ]
  },
  {
   "cell_type": "code",
   "execution_count": 13,
   "metadata": {},
   "outputs": [],
   "source": [
    "df_tracks.drop_duplicates(subset=['artist_name','track_name'], inplace=True)"
   ]
  },
  {
   "cell_type": "code",
   "execution_count": 15,
   "metadata": {},
   "outputs": [
    {
     "data": {
      "text/plain": [
       "0"
      ]
     },
     "execution_count": 15,
     "metadata": {},
     "output_type": "execute_result"
    }
   ],
   "source": [
    "#grouping again to verify the dropped duplicates worked\n",
    "grouped = df_tracks.groupby(['artist_name','track_name'], as_index=True).size()\n",
    "grouped[grouped > 1].count()"
   ]
  },
  {
   "cell_type": "code",
   "execution_count": 18,
   "metadata": {},
   "outputs": [
    {
     "data": {
      "text/plain": [
       "artist_name    0\n",
       "popularity     0\n",
       "track_id       0\n",
       "track_name     0\n",
       "dtype: int64"
      ]
     },
     "execution_count": 18,
     "metadata": {},
     "output_type": "execute_result"
    }
   ],
   "source": [
    "df_tracks[df_tracks.duplicated(subset=['artist_name','track_name'], keep=False)].count()"
   ]
  },
  {
   "cell_type": "code",
   "execution_count": 19,
   "metadata": {},
   "outputs": [
    {
     "data": {
      "text/plain": [
       "(6989, 4)"
      ]
     },
     "execution_count": 19,
     "metadata": {},
     "output_type": "execute_result"
    }
   ],
   "source": [
    "df_tracks.shape"
   ]
  },
  {
   "cell_type": "markdown",
   "metadata": {},
   "source": [
    "Get the Audio Features Data"
   ]
  },
  {
   "cell_type": "code",
   "execution_count": 20,
   "metadata": {},
   "outputs": [
    {
     "name": "stdout",
     "output_type": "stream",
     "text": [
      "No. of tracks with unavailable audio features: 22\n",
      "Ran code in: 16.545851520146243 seconds\n"
     ]
    }
   ],
   "source": [
    "#We shall get the audio features for the unique 6989 Tracks IDs\n",
    "\n",
    "#again importing timeit to measure the run time of the code\n",
    "start = timeit.default_timer()\n",
    "\n",
    "#empty list, batchsize 100 and the counter for the none results\n",
    "rows = []\n",
    "batchsize = 100\n",
    "None_counter = 0\n",
    "\n",
    "for i in range(0,len(df_tracks['track_id']),batchsize):\n",
    "    batch = df_tracks['track_id'][i:i+batchsize]\n",
    "    feature_results = sp.audio_features(batch)\n",
    "    for i, t in enumerate(feature_results):\n",
    "        if t == None:\n",
    "            None_counter = None_counter + 1\n",
    "        else:\n",
    "            rows.append(t)\n",
    "            \n",
    "print('No. of tracks with unavailable audio features:',None_counter)\n",
    "\n",
    "stop = timeit.default_timer()\n",
    "print('Ran code in:',stop - start,'seconds')"
   ]
  },
  {
   "cell_type": "markdown",
   "metadata": {},
   "source": [
    "Audio Feature Data Preparation"
   ]
  },
  {
   "cell_type": "code",
   "execution_count": 21,
   "metadata": {},
   "outputs": [
    {
     "name": "stdout",
     "output_type": "stream",
     "text": [
      "number of songs in the track_id list: 6967\n"
     ]
    }
   ],
   "source": [
    "print('number of songs in the track_id list:', len(rows))"
   ]
  },
  {
   "cell_type": "code",
   "execution_count": 22,
   "metadata": {},
   "outputs": [
    {
     "name": "stdout",
     "output_type": "stream",
     "text": [
      "Shape of the dataset: (6967, 18)\n"
     ]
    },
    {
     "data": {
      "text/html": [
       "<div>\n",
       "<style scoped>\n",
       "    .dataframe tbody tr th:only-of-type {\n",
       "        vertical-align: middle;\n",
       "    }\n",
       "\n",
       "    .dataframe tbody tr th {\n",
       "        vertical-align: top;\n",
       "    }\n",
       "\n",
       "    .dataframe thead th {\n",
       "        text-align: right;\n",
       "    }\n",
       "</style>\n",
       "<table border=\"1\" class=\"dataframe\">\n",
       "  <thead>\n",
       "    <tr style=\"text-align: right;\">\n",
       "      <th></th>\n",
       "      <th>acousticness</th>\n",
       "      <th>analysis_url</th>\n",
       "      <th>danceability</th>\n",
       "      <th>duration_ms</th>\n",
       "      <th>energy</th>\n",
       "      <th>id</th>\n",
       "      <th>instrumentalness</th>\n",
       "      <th>key</th>\n",
       "      <th>liveness</th>\n",
       "      <th>loudness</th>\n",
       "      <th>mode</th>\n",
       "      <th>speechiness</th>\n",
       "      <th>tempo</th>\n",
       "      <th>time_signature</th>\n",
       "      <th>track_href</th>\n",
       "      <th>type</th>\n",
       "      <th>uri</th>\n",
       "      <th>valence</th>\n",
       "    </tr>\n",
       "  </thead>\n",
       "  <tbody>\n",
       "    <tr>\n",
       "      <th>0</th>\n",
       "      <td>0.00513</td>\n",
       "      <td>https://api.spotify.com/v1/audio-analysis/2xLM...</td>\n",
       "      <td>0.834</td>\n",
       "      <td>312820</td>\n",
       "      <td>0.730</td>\n",
       "      <td>2xLMifQCjDGFmkHkpNLD9h</td>\n",
       "      <td>0.00000</td>\n",
       "      <td>8</td>\n",
       "      <td>0.1240</td>\n",
       "      <td>-3.714</td>\n",
       "      <td>1</td>\n",
       "      <td>0.2220</td>\n",
       "      <td>155.008</td>\n",
       "      <td>4</td>\n",
       "      <td>https://api.spotify.com/v1/tracks/2xLMifQCjDGF...</td>\n",
       "      <td>audio_features</td>\n",
       "      <td>spotify:track:2xLMifQCjDGFmkHkpNLD9h</td>\n",
       "      <td>0.446</td>\n",
       "    </tr>\n",
       "    <tr>\n",
       "      <th>1</th>\n",
       "      <td>0.34900</td>\n",
       "      <td>https://api.spotify.com/v1/audio-analysis/0s3n...</td>\n",
       "      <td>0.511</td>\n",
       "      <td>239836</td>\n",
       "      <td>0.566</td>\n",
       "      <td>0s3nnoMeVWz3989MkNQiRf</td>\n",
       "      <td>0.00000</td>\n",
       "      <td>6</td>\n",
       "      <td>0.3400</td>\n",
       "      <td>-7.230</td>\n",
       "      <td>0</td>\n",
       "      <td>0.2000</td>\n",
       "      <td>83.903</td>\n",
       "      <td>4</td>\n",
       "      <td>https://api.spotify.com/v1/tracks/0s3nnoMeVWz3...</td>\n",
       "      <td>audio_features</td>\n",
       "      <td>spotify:track:0s3nnoMeVWz3989MkNQiRf</td>\n",
       "      <td>0.218</td>\n",
       "    </tr>\n",
       "    <tr>\n",
       "      <th>2</th>\n",
       "      <td>0.07100</td>\n",
       "      <td>https://api.spotify.com/v1/audio-analysis/7l3E...</td>\n",
       "      <td>0.826</td>\n",
       "      <td>225199</td>\n",
       "      <td>0.615</td>\n",
       "      <td>7l3E7lcozEodtVsSTCkcaA</td>\n",
       "      <td>0.00000</td>\n",
       "      <td>8</td>\n",
       "      <td>0.0965</td>\n",
       "      <td>-7.979</td>\n",
       "      <td>0</td>\n",
       "      <td>0.2190</td>\n",
       "      <td>98.056</td>\n",
       "      <td>4</td>\n",
       "      <td>https://api.spotify.com/v1/tracks/7l3E7lcozEod...</td>\n",
       "      <td>audio_features</td>\n",
       "      <td>spotify:track:7l3E7lcozEodtVsSTCkcaA</td>\n",
       "      <td>0.543</td>\n",
       "    </tr>\n",
       "    <tr>\n",
       "      <th>3</th>\n",
       "      <td>0.19100</td>\n",
       "      <td>https://api.spotify.com/v1/audio-analysis/2dpa...</td>\n",
       "      <td>0.687</td>\n",
       "      <td>214290</td>\n",
       "      <td>0.792</td>\n",
       "      <td>2dpaYNEQHiRxtZbfNsse99</td>\n",
       "      <td>0.00000</td>\n",
       "      <td>5</td>\n",
       "      <td>0.1670</td>\n",
       "      <td>-2.749</td>\n",
       "      <td>1</td>\n",
       "      <td>0.0452</td>\n",
       "      <td>100.015</td>\n",
       "      <td>4</td>\n",
       "      <td>https://api.spotify.com/v1/tracks/2dpaYNEQHiRx...</td>\n",
       "      <td>audio_features</td>\n",
       "      <td>spotify:track:2dpaYNEQHiRxtZbfNsse99</td>\n",
       "      <td>0.671</td>\n",
       "    </tr>\n",
       "    <tr>\n",
       "      <th>4</th>\n",
       "      <td>0.25800</td>\n",
       "      <td>https://api.spotify.com/v1/audio-analysis/3ee8...</td>\n",
       "      <td>0.740</td>\n",
       "      <td>166606</td>\n",
       "      <td>0.613</td>\n",
       "      <td>3ee8Jmje8o58CHK66QrVC2</td>\n",
       "      <td>0.00372</td>\n",
       "      <td>8</td>\n",
       "      <td>0.1230</td>\n",
       "      <td>-4.880</td>\n",
       "      <td>1</td>\n",
       "      <td>0.1450</td>\n",
       "      <td>75.023</td>\n",
       "      <td>4</td>\n",
       "      <td>https://api.spotify.com/v1/tracks/3ee8Jmje8o58...</td>\n",
       "      <td>audio_features</td>\n",
       "      <td>spotify:track:3ee8Jmje8o58CHK66QrVC2</td>\n",
       "      <td>0.473</td>\n",
       "    </tr>\n",
       "  </tbody>\n",
       "</table>\n",
       "</div>"
      ],
      "text/plain": [
       "   acousticness                                       analysis_url  \\\n",
       "0       0.00513  https://api.spotify.com/v1/audio-analysis/2xLM...   \n",
       "1       0.34900  https://api.spotify.com/v1/audio-analysis/0s3n...   \n",
       "2       0.07100  https://api.spotify.com/v1/audio-analysis/7l3E...   \n",
       "3       0.19100  https://api.spotify.com/v1/audio-analysis/2dpa...   \n",
       "4       0.25800  https://api.spotify.com/v1/audio-analysis/3ee8...   \n",
       "\n",
       "   danceability  duration_ms  energy                      id  \\\n",
       "0         0.834       312820   0.730  2xLMifQCjDGFmkHkpNLD9h   \n",
       "1         0.511       239836   0.566  0s3nnoMeVWz3989MkNQiRf   \n",
       "2         0.826       225199   0.615  7l3E7lcozEodtVsSTCkcaA   \n",
       "3         0.687       214290   0.792  2dpaYNEQHiRxtZbfNsse99   \n",
       "4         0.740       166606   0.613  3ee8Jmje8o58CHK66QrVC2   \n",
       "\n",
       "   instrumentalness  key  liveness  loudness  mode  speechiness    tempo  \\\n",
       "0           0.00000    8    0.1240    -3.714     1       0.2220  155.008   \n",
       "1           0.00000    6    0.3400    -7.230     0       0.2000   83.903   \n",
       "2           0.00000    8    0.0965    -7.979     0       0.2190   98.056   \n",
       "3           0.00000    5    0.1670    -2.749     1       0.0452  100.015   \n",
       "4           0.00372    8    0.1230    -4.880     1       0.1450   75.023   \n",
       "\n",
       "   time_signature                                         track_href  \\\n",
       "0               4  https://api.spotify.com/v1/tracks/2xLMifQCjDGF...   \n",
       "1               4  https://api.spotify.com/v1/tracks/0s3nnoMeVWz3...   \n",
       "2               4  https://api.spotify.com/v1/tracks/7l3E7lcozEod...   \n",
       "3               4  https://api.spotify.com/v1/tracks/2dpaYNEQHiRx...   \n",
       "4               4  https://api.spotify.com/v1/tracks/3ee8Jmje8o58...   \n",
       "\n",
       "             type                                   uri  valence  \n",
       "0  audio_features  spotify:track:2xLMifQCjDGFmkHkpNLD9h    0.446  \n",
       "1  audio_features  spotify:track:0s3nnoMeVWz3989MkNQiRf    0.218  \n",
       "2  audio_features  spotify:track:7l3E7lcozEodtVsSTCkcaA    0.543  \n",
       "3  audio_features  spotify:track:2dpaYNEQHiRxtZbfNsse99    0.671  \n",
       "4  audio_features  spotify:track:3ee8Jmje8o58CHK66QrVC2    0.473  "
      ]
     },
     "execution_count": 22,
     "metadata": {},
     "output_type": "execute_result"
    }
   ],
   "source": [
    "df_audio_features = pd.DataFrame.from_dict(rows, orient='columns')\n",
    "print(\"Shape of the dataset:\", df_audio_features.shape)\n",
    "df_audio_features.head()"
   ]
  },
  {
   "cell_type": "code",
   "execution_count": 24,
   "metadata": {},
   "outputs": [
    {
     "name": "stdout",
     "output_type": "stream",
     "text": [
      "<class 'pandas.core.frame.DataFrame'>\n",
      "RangeIndex: 6967 entries, 0 to 6966\n",
      "Data columns (total 18 columns):\n",
      "acousticness        6967 non-null float64\n",
      "analysis_url        6967 non-null object\n",
      "danceability        6967 non-null float64\n",
      "duration_ms         6967 non-null int64\n",
      "energy              6967 non-null float64\n",
      "id                  6967 non-null object\n",
      "instrumentalness    6967 non-null float64\n",
      "key                 6967 non-null int64\n",
      "liveness            6967 non-null float64\n",
      "loudness            6967 non-null float64\n",
      "mode                6967 non-null int64\n",
      "speechiness         6967 non-null float64\n",
      "tempo               6967 non-null float64\n",
      "time_signature      6967 non-null int64\n",
      "track_href          6967 non-null object\n",
      "type                6967 non-null object\n",
      "uri                 6967 non-null object\n",
      "valence             6967 non-null float64\n",
      "dtypes: float64(9), int64(4), object(5)\n",
      "memory usage: 979.8+ KB\n"
     ]
    }
   ],
   "source": [
    "df_audio_features.info()"
   ]
  },
  {
   "cell_type": "code",
   "execution_count": 25,
   "metadata": {},
   "outputs": [
    {
     "data": {
      "text/plain": [
       "(6967, 14)"
      ]
     },
     "execution_count": 25,
     "metadata": {},
     "output_type": "execute_result"
    }
   ],
   "source": [
    "#dropping irrelevant columns\n",
    "columns_to_drop = ['analysis_url','track_href','type','uri']\n",
    "df_audio_features.drop(columns_to_drop, axis=1, inplace=True)\n",
    "\n",
    "#The ID column will be renamed to track_id so that \n",
    "#it matches the column name from the first dataframe.\n",
    "df_audio_features.rename(columns={'id': 'track_id'}, inplace=True)\n",
    "\n",
    "df_audio_features.shape"
   ]
  },
  {
   "cell_type": "code",
   "execution_count": 27,
   "metadata": {},
   "outputs": [
    {
     "name": "stdout",
     "output_type": "stream",
     "text": [
      "Shape of the dataset: (6967, 17)\n"
     ]
    },
    {
     "data": {
      "text/html": [
       "<div>\n",
       "<style scoped>\n",
       "    .dataframe tbody tr th:only-of-type {\n",
       "        vertical-align: middle;\n",
       "    }\n",
       "\n",
       "    .dataframe tbody tr th {\n",
       "        vertical-align: top;\n",
       "    }\n",
       "\n",
       "    .dataframe thead th {\n",
       "        text-align: right;\n",
       "    }\n",
       "</style>\n",
       "<table border=\"1\" class=\"dataframe\">\n",
       "  <thead>\n",
       "    <tr style=\"text-align: right;\">\n",
       "      <th></th>\n",
       "      <th>artist_name</th>\n",
       "      <th>popularity</th>\n",
       "      <th>track_id</th>\n",
       "      <th>track_name</th>\n",
       "      <th>acousticness</th>\n",
       "      <th>danceability</th>\n",
       "      <th>duration_ms</th>\n",
       "      <th>energy</th>\n",
       "      <th>instrumentalness</th>\n",
       "      <th>key</th>\n",
       "      <th>liveness</th>\n",
       "      <th>loudness</th>\n",
       "      <th>mode</th>\n",
       "      <th>speechiness</th>\n",
       "      <th>tempo</th>\n",
       "      <th>time_signature</th>\n",
       "      <th>valence</th>\n",
       "    </tr>\n",
       "  </thead>\n",
       "  <tbody>\n",
       "    <tr>\n",
       "      <th>0</th>\n",
       "      <td>Travis Scott</td>\n",
       "      <td>97</td>\n",
       "      <td>2xLMifQCjDGFmkHkpNLD9h</td>\n",
       "      <td>SICKO MODE</td>\n",
       "      <td>0.00513</td>\n",
       "      <td>0.834</td>\n",
       "      <td>312820</td>\n",
       "      <td>0.730</td>\n",
       "      <td>0.00000</td>\n",
       "      <td>8</td>\n",
       "      <td>0.1240</td>\n",
       "      <td>-3.714</td>\n",
       "      <td>1</td>\n",
       "      <td>0.2220</td>\n",
       "      <td>155.008</td>\n",
       "      <td>4</td>\n",
       "      <td>0.446</td>\n",
       "    </tr>\n",
       "    <tr>\n",
       "      <th>1</th>\n",
       "      <td>Juice WRLD</td>\n",
       "      <td>96</td>\n",
       "      <td>0s3nnoMeVWz3989MkNQiRf</td>\n",
       "      <td>Lucid Dreams</td>\n",
       "      <td>0.34900</td>\n",
       "      <td>0.511</td>\n",
       "      <td>239836</td>\n",
       "      <td>0.566</td>\n",
       "      <td>0.00000</td>\n",
       "      <td>6</td>\n",
       "      <td>0.3400</td>\n",
       "      <td>-7.230</td>\n",
       "      <td>0</td>\n",
       "      <td>0.2000</td>\n",
       "      <td>83.903</td>\n",
       "      <td>4</td>\n",
       "      <td>0.218</td>\n",
       "    </tr>\n",
       "    <tr>\n",
       "      <th>2</th>\n",
       "      <td>Kodak Black</td>\n",
       "      <td>95</td>\n",
       "      <td>7l3E7lcozEodtVsSTCkcaA</td>\n",
       "      <td>ZEZE (feat. Travis Scott &amp; Offset)</td>\n",
       "      <td>0.07100</td>\n",
       "      <td>0.826</td>\n",
       "      <td>225199</td>\n",
       "      <td>0.615</td>\n",
       "      <td>0.00000</td>\n",
       "      <td>8</td>\n",
       "      <td>0.0965</td>\n",
       "      <td>-7.979</td>\n",
       "      <td>0</td>\n",
       "      <td>0.2190</td>\n",
       "      <td>98.056</td>\n",
       "      <td>4</td>\n",
       "      <td>0.543</td>\n",
       "    </tr>\n",
       "    <tr>\n",
       "      <th>3</th>\n",
       "      <td>Marshmello</td>\n",
       "      <td>99</td>\n",
       "      <td>2dpaYNEQHiRxtZbfNsse99</td>\n",
       "      <td>Happier</td>\n",
       "      <td>0.19100</td>\n",
       "      <td>0.687</td>\n",
       "      <td>214290</td>\n",
       "      <td>0.792</td>\n",
       "      <td>0.00000</td>\n",
       "      <td>5</td>\n",
       "      <td>0.1670</td>\n",
       "      <td>-2.749</td>\n",
       "      <td>1</td>\n",
       "      <td>0.0452</td>\n",
       "      <td>100.015</td>\n",
       "      <td>4</td>\n",
       "      <td>0.671</td>\n",
       "    </tr>\n",
       "    <tr>\n",
       "      <th>4</th>\n",
       "      <td>XXXTENTACION</td>\n",
       "      <td>95</td>\n",
       "      <td>3ee8Jmje8o58CHK66QrVC2</td>\n",
       "      <td>SAD!</td>\n",
       "      <td>0.25800</td>\n",
       "      <td>0.740</td>\n",
       "      <td>166606</td>\n",
       "      <td>0.613</td>\n",
       "      <td>0.00372</td>\n",
       "      <td>8</td>\n",
       "      <td>0.1230</td>\n",
       "      <td>-4.880</td>\n",
       "      <td>1</td>\n",
       "      <td>0.1450</td>\n",
       "      <td>75.023</td>\n",
       "      <td>4</td>\n",
       "      <td>0.473</td>\n",
       "    </tr>\n",
       "  </tbody>\n",
       "</table>\n",
       "</div>"
      ],
      "text/plain": [
       "    artist_name  popularity                track_id  \\\n",
       "0  Travis Scott          97  2xLMifQCjDGFmkHkpNLD9h   \n",
       "1    Juice WRLD          96  0s3nnoMeVWz3989MkNQiRf   \n",
       "2   Kodak Black          95  7l3E7lcozEodtVsSTCkcaA   \n",
       "3    Marshmello          99  2dpaYNEQHiRxtZbfNsse99   \n",
       "4  XXXTENTACION          95  3ee8Jmje8o58CHK66QrVC2   \n",
       "\n",
       "                           track_name  acousticness  danceability  \\\n",
       "0                          SICKO MODE       0.00513         0.834   \n",
       "1                        Lucid Dreams       0.34900         0.511   \n",
       "2  ZEZE (feat. Travis Scott & Offset)       0.07100         0.826   \n",
       "3                             Happier       0.19100         0.687   \n",
       "4                                SAD!       0.25800         0.740   \n",
       "\n",
       "   duration_ms  energy  instrumentalness  key  liveness  loudness  mode  \\\n",
       "0       312820   0.730           0.00000    8    0.1240    -3.714     1   \n",
       "1       239836   0.566           0.00000    6    0.3400    -7.230     0   \n",
       "2       225199   0.615           0.00000    8    0.0965    -7.979     0   \n",
       "3       214290   0.792           0.00000    5    0.1670    -2.749     1   \n",
       "4       166606   0.613           0.00372    8    0.1230    -4.880     1   \n",
       "\n",
       "   speechiness    tempo  time_signature  valence  \n",
       "0       0.2220  155.008               4    0.446  \n",
       "1       0.2000   83.903               4    0.218  \n",
       "2       0.2190   98.056               4    0.543  \n",
       "3       0.0452  100.015               4    0.671  \n",
       "4       0.1450   75.023               4    0.473  "
      ]
     },
     "execution_count": 27,
     "metadata": {},
     "output_type": "execute_result"
    }
   ],
   "source": [
    "#merging both Track ID & Audio Feature dataframes\n",
    "#we use inner join w.r.t track_id commonly present\n",
    "\n",
    "df = pd.merge(df_tracks, df_audio_features, on='track_id', how='inner')\n",
    "print(\"Shape of the dataset:\", df.shape)\n",
    "df.head()"
   ]
  },
  {
   "cell_type": "code",
   "execution_count": 28,
   "metadata": {},
   "outputs": [
    {
     "name": "stdout",
     "output_type": "stream",
     "text": [
      "<class 'pandas.core.frame.DataFrame'>\n",
      "Int64Index: 6967 entries, 0 to 6966\n",
      "Data columns (total 17 columns):\n",
      "artist_name         6967 non-null object\n",
      "popularity          6967 non-null int64\n",
      "track_id            6967 non-null object\n",
      "track_name          6967 non-null object\n",
      "acousticness        6967 non-null float64\n",
      "danceability        6967 non-null float64\n",
      "duration_ms         6967 non-null int64\n",
      "energy              6967 non-null float64\n",
      "instrumentalness    6967 non-null float64\n",
      "key                 6967 non-null int64\n",
      "liveness            6967 non-null float64\n",
      "loudness            6967 non-null float64\n",
      "mode                6967 non-null int64\n",
      "speechiness         6967 non-null float64\n",
      "tempo               6967 non-null float64\n",
      "time_signature      6967 non-null int64\n",
      "valence             6967 non-null float64\n",
      "dtypes: float64(9), int64(5), object(3)\n",
      "memory usage: 979.7+ KB\n"
     ]
    }
   ],
   "source": [
    "df.info()"
   ]
  },
  {
   "cell_type": "code",
   "execution_count": 29,
   "metadata": {},
   "outputs": [
    {
     "data": {
      "text/html": [
       "<div>\n",
       "<style scoped>\n",
       "    .dataframe tbody tr th:only-of-type {\n",
       "        vertical-align: middle;\n",
       "    }\n",
       "\n",
       "    .dataframe tbody tr th {\n",
       "        vertical-align: top;\n",
       "    }\n",
       "\n",
       "    .dataframe thead th {\n",
       "        text-align: right;\n",
       "    }\n",
       "</style>\n",
       "<table border=\"1\" class=\"dataframe\">\n",
       "  <thead>\n",
       "    <tr style=\"text-align: right;\">\n",
       "      <th></th>\n",
       "      <th>artist_name</th>\n",
       "      <th>popularity</th>\n",
       "      <th>track_id</th>\n",
       "      <th>track_name</th>\n",
       "      <th>acousticness</th>\n",
       "      <th>danceability</th>\n",
       "      <th>duration_ms</th>\n",
       "      <th>energy</th>\n",
       "      <th>instrumentalness</th>\n",
       "      <th>key</th>\n",
       "      <th>liveness</th>\n",
       "      <th>loudness</th>\n",
       "      <th>mode</th>\n",
       "      <th>speechiness</th>\n",
       "      <th>tempo</th>\n",
       "      <th>time_signature</th>\n",
       "      <th>valence</th>\n",
       "    </tr>\n",
       "  </thead>\n",
       "  <tbody>\n",
       "  </tbody>\n",
       "</table>\n",
       "</div>"
      ],
      "text/plain": [
       "Empty DataFrame\n",
       "Columns: [artist_name, popularity, track_id, track_name, acousticness, danceability, duration_ms, energy, instrumentalness, key, liveness, loudness, mode, speechiness, tempo, time_signature, valence]\n",
       "Index: []"
      ]
     },
     "execution_count": 29,
     "metadata": {},
     "output_type": "execute_result"
    }
   ],
   "source": [
    "#in case of duplicate tracks\n",
    "df[df.duplicated(subset=['artist_name', 'track_name'], keep=False)]"
   ]
  },
  {
   "cell_type": "code",
   "execution_count": 32,
   "metadata": {},
   "outputs": [],
   "source": [
    "df.to_csv('C:/Users/prono/Desktop/Spotify_Music_Sentiment_Analysis/Dataset/spotify_dataset.csv')"
   ]
  },
  {
   "cell_type": "code",
   "execution_count": null,
   "metadata": {},
   "outputs": [],
   "source": []
  }
 ],
 "metadata": {
  "kernelspec": {
   "display_name": "Python 3",
   "language": "python",
   "name": "python3"
  },
  "language_info": {
   "codemirror_mode": {
    "name": "ipython",
    "version": 3
   },
   "file_extension": ".py",
   "mimetype": "text/x-python",
   "name": "python",
   "nbconvert_exporter": "python",
   "pygments_lexer": "ipython3",
   "version": "3.6.7"
  }
 },
 "nbformat": 4,
 "nbformat_minor": 2
}
